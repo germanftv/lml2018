{
 "cells": [
  {
   "cell_type": "markdown",
   "metadata": {},
   "source": [
    "# Introduction to neural networks using Keras I\n",
    "\n",
    "#### By Julian Rincon\n",
    "#### Notebook originally written by Pavlos Protopapas, Harvard Institute for Applied Computational Science\n",
    "###### Based on the book [Deep Learning with Python](https://www.manning.com/books/deep-learning-with-python) by François Chollet."
   ]
  },
  {
   "cell_type": "markdown",
   "metadata": {},
   "source": [
    "In this (first) tutorial we will cover/review the following topics:\n",
    "\n",
    "1. A quick and dirty installation and introduction to [Keras](http://keras.io).\n",
    "2. Basic concepts in neural networks seen in the lectures.\n",
    "3. A prototypical application of neural networks using Keras.\n",
    "\n",
    "Let us start by reviewing some basic components of machine and deep learning."
   ]
  },
  {
   "cell_type": "markdown",
   "metadata": {},
   "source": [
    "---"
   ]
  },
  {
   "cell_type": "markdown",
   "metadata": {},
   "source": [
    "## Theory about Neural Networks\n",
    "\n",
    "### From Linear to Deep Learning Models\n",
    "\n",
    "#### Beyond Linear Models\n",
    "\n",
    "Linear models can be fit efficiently via convex optimization, but the model capacity is limited.\n",
    "\n",
    "Alternative:\n",
    "$$ f(x) = w^T\\phi(x) $$\n",
    "where $\\phi$ is a *non-linear transform*\n",
    "\n",
    "A machine-learning model transforms its input data into meaningful outputs, a process that is \"learned\" from exposure to known examples of inputs and outputs. Therefore, _**the central problem in machine learning and deep learning is to meaningfully transform data**_: in other words, to learn useful *representations* of the input data at hand -- representations that get us closer to the expected output.\n",
    "\n",
    "#### Traditional Machine Learning\n",
    "\n",
    "One option is to use a very generic $\\phi$. If $\\phi(x)$ is of high enough dimension, we can always have enough capacity to fit the training set, but generalization to the test set often remains poor. Very generic feature mappings are usually based only on the principle of local smoothness and do not encode enough prior information to solve advanced problems.\n",
    "\n",
    "Another option is to manually engineer $\\phi$. Until the advent of deep learning, this was the dominant approach. It requires decades of human effort for each separate task, with practitioners specializing in different domains, such as speech recognition or computer vision, and with little transfer between domains.\n",
    "\n",
    "#### Deep Learning\n",
    "\n",
    "Directly learn $\\phi$ with parameters $\\theta$, specifically:\n",
    "$$f(x;\\theta) = w^T\\phi(x;\\theta)$$\n",
    "\n",
    "\n",
    "We now have parameters $\\theta$ that we use to learn $\\phi$ from a broad class of functions, and parameters that map from $\\phi(x)$ to the desired output. This is an example of a deep feed-forward network, with $\\phi$ defining a hidden layer. This approach is the only one of the three that gives up on the convexity of the training problem, but the benefits outweigh the harms. In this approach, we parametrize the representation as $\\phi(x;\\theta)$ and use the optimization algorithm to find the $\\theta$ that corresponds to a good representation. If we wish, this approach can capture the benefit of the first approach by being highly generic$-$we do so by using a very broad family $\\phi(x;\\theta)$. Deep learning can also capture the benefit of the second approach. Human practitioners can encode their knowledge to help generalization by designing families $\\phi(x;\\theta)$ that they expect will perform well. The advantage is that the human designer only needs to find the right general function family rather than finding precisely the right function.\n",
    "\n",
    "![layers of representations](representations.png)\n",
    "\n",
    "The *deep* in *deep learning* isn't a reference to any kind of deeper understanding achieved by the approach; rather, it stands for this idea of successive layers of representations. How many layers contribute to a model of the data is called the *depth* of the model. Other appropriate names for the field could have been *layered representations learning* and *hierarchical representations learning*. Modern deep learning often involves tens or even hundreds of successive layers of representations$-$and they're all learned automatically from exposure to training data."
   ]
  },
  {
   "cell_type": "markdown",
   "metadata": {},
   "source": [
    "### Components of Deep Learning\n",
    "\n",
    "To do machine learning, and in particular deep learning, we need three things:\n",
    "\n",
    "* **Input** data points$-$For instance, if the task is speech recognition, these data points could be sound files of people speaking. If the task is image tagging, they could be pictures.\n",
    "* Examples of the expected **output**$-$In a speech-recognition task, these could be human-generated transcripts of sound files. In an image task, expected outputs could be tags such as \"dog\", \"cat\", and so on.\n",
    "* A **cost (or loss) function** which is a way to measure whether the algorithm is doing a good job. This is necessary in order to determine the distance between the algorithm's current output and its expected output. The measurement is used as a feedback signal to adjust the way the algorithm works. This adjustment step is what we call *learning*.\n",
    "\n",
    "![components of deep learning](components.png)"
   ]
  },
  {
   "cell_type": "markdown",
   "metadata": {},
   "source": [
    "---"
   ]
  },
  {
   "cell_type": "markdown",
   "metadata": {},
   "source": [
    "## Instructions to set up a workstation with Keras\n",
    "\n",
    "We will assume we've already have installed on our workstation\n",
    "\n",
    "1. [Python](https://www.python.org/) 3,\n",
    "1. Linear algebra libraries: BLAS and LAPACK,\n",
    "1. Python's scientific suite: [Numpy](http://www.numpy.org/), [Scipy](https://www.scipy.org/), and [Matplotlib](https://matplotlib.org/).\n",
    "\n",
    "In order to set up a functioning workstation, it's recommended to work with [Jupyter](http://jupyter.org/) Notebooks. The Jupyter Notebook is an open-source web application that allows to code interactively. You can either install Jupyter using Python's package manager `pip` or directly install the Anaconda Distribution. Here we follow the first route. For details on how to install Jupyter go to http://jupyter.org/install.html.\n",
    "\n",
    "In case you don't have it, you will need to install `pip`. However, make sure you've updated your OS's package database. If using OSX's `port`, you must update `port`'s tree and upgrade any installed ports. (Of course, use the corresponding package manager according to your OS.) In a terminal type\n",
    "\n",
    "    sudo port selfupdate\n",
    "    sudo port upgrade outdated #this might take a while\n",
    "    sudo port install py34-pip\n",
    "    sudo port select --set pip pip34\n",
    "\n",
    "The `py34` above stands for Python3.4, again, change that accordingly in your workstation. The actual installation of [Jupyter](http://jupyter.org/) will follow from the commands:\n",
    "\n",
    "    sudo -H python3 -m pip install --upgrade pip  \n",
    "    sudo -H python3 -m pip install jupyter\n",
    "\n",
    "Consider setting up and exporting the environment variable `PATH`, if necessary.\n",
    "\n",
    "The framework [Keras](http://keras.io) is a front-end to deep learning engines such as [TensorFlow](https://www.tensorflow.org/), [Theano](https://github.com/Theano/), and Microsoft's Cognitive Toolkit [CNTK](https://www.microsoft.com/en-us/cognitive-toolkit/). It's highly recommended to use TensorFlow, so that's the back-end we will install.\n",
    "\n",
    "Next we install TensorFlow, for further details visit https://www.tensorflow.org/install/. Input in your terminal\n",
    "\n",
    "    sudo -H pip install tensorflow\n",
    "\n",
    "and follow any prompted instructions.\n",
    "\n",
    "Finally, for the last step we get to install the Keras framework:\n",
    "\n",
    "    sudo -H pip install keras\n",
    "\n",
    "More information is provided in Kera's website https://keras.io/. In order to check the successful installation of both TensorFlow and Keras open an interactive Python 3 session and type \n",
    "\n",
    "    import keras\n",
    "    keras.__version__\n",
    "\n",
    "you should see an output that includes the message \n",
    "\n",
    "> Using TensorFlow backend.  \n",
    "> '2.2.0'\n",
    "\n",
    "or something like that. If you get a message of that form then we've swimmingly installed Keras and its dependencies.\n",
    "\n",
    "Optionally, you may want to install other useful libraries. [HDF5](https://matplotlib.org/) and [h5py](https://www.h5py.org/) for quick and efficient manipulation of large files. [Graphviz](https://www.graphviz.org/) for explicit visualization of Keras models. For GPU support you will need to install CUDA, cuDNN, and install TensorFlow with GPU support. For details check out NVIDIA's web page https://developer.nvidia.com/.\n",
    "\n",
    "Let's now move on to some neural networks applications."
   ]
  },
  {
   "cell_type": "markdown",
   "metadata": {},
   "source": [
    "---"
   ]
  },
  {
   "cell_type": "markdown",
   "metadata": {},
   "source": [
    "## Deep learning examples using Keras\n",
    "\n",
    "This notebook contains the code samples found in Chapter 2, Section 1 and 5 of [Deep Learning with Python](https://www.manning.com/books/deep-learning-with-python?a_aid=keras&a_bid=76564dff) by F. Chollet. Note that the original text features far more content, in particular further explanations and figures: in this notebook, you will only find source code and related comments."
   ]
  },
  {
   "cell_type": "markdown",
   "metadata": {},
   "source": [
    "### Hand-written digit image classification\n",
    "\n",
    "We will now take a look at a first concrete example of a neural network, which makes use of the Python library Keras to learn to classify hand-written digits. Unless you already have experience with Keras or similar libraries, you will not understand everything about this first example right away. You probably haven't even installed Keras yet. Don't worry, that is perfectly fine. In the next lecture or lab, we will review each element in our example and explain them in detail. So don't worry if some steps seem arbitrary or look like magic to you! We've got to start somewhere.\n",
    "\n",
    "The problem we are trying to solve here is to classify grayscale images of handwritten digits (28 pixels by 28 pixels), into their 10 categories (0 to 9). The dataset we will use is the `MNIST` dataset, a classic dataset in the machine learning community, which has been around for almost as long as the field itself and has been very intensively studied. It's a set of 60,000 training images, plus 10,000 test images, assembled by the National Institute of Standards and Technology (NIST) in the 1980s. *You can think of \"solving\" MNIST as the \"Hello World\" of deep learning* -- it's what you do to verify that your algorithms are working as expected. As you become a machine learning practitioner, you will see MNIST come up over and over again, in scientific papers, blog posts, and so on."
   ]
  },
  {
   "cell_type": "markdown",
   "metadata": {},
   "source": [
    "The MNIST dataset comes pre-loaded in Keras, in the form of a set of four Numpy arrays:"
   ]
  },
  {
   "cell_type": "code",
   "execution_count": 2,
   "metadata": {},
   "outputs": [
    {
     "name": "stderr",
     "output_type": "stream",
     "text": [
      "Using TensorFlow backend.\n"
     ]
    }
   ],
   "source": [
    "from keras.datasets import mnist\n",
    "\n",
    "(train_images, train_labels), (test_images, test_labels) = mnist.load_data()"
   ]
  },
  {
   "cell_type": "markdown",
   "metadata": {},
   "source": [
    "`train_images` and `train_labels` form the \"training set\", the data that the model will learn from. The model will then be tested on the \"test set\", `test_images` and `test_labels`. Our images are encoded as Numpy arrays, and the labels are simply an array of digits, ranging from 0 to 9. There is a one-to-one correspondence between the images and the labels.\n",
    "\n",
    "Let's have a look at the training data:"
   ]
  },
  {
   "cell_type": "code",
   "execution_count": 3,
   "metadata": {
    "scrolled": false
   },
   "outputs": [
    {
     "data": {
      "text/plain": [
       "(60000, 28, 28)"
      ]
     },
     "execution_count": 3,
     "metadata": {},
     "output_type": "execute_result"
    }
   ],
   "source": [
    "train_images.shape"
   ]
  },
  {
   "cell_type": "code",
   "execution_count": 4,
   "metadata": {},
   "outputs": [
    {
     "data": {
      "text/plain": [
       "60000"
      ]
     },
     "execution_count": 4,
     "metadata": {},
     "output_type": "execute_result"
    }
   ],
   "source": [
    "len(train_labels)"
   ]
  },
  {
   "cell_type": "code",
   "execution_count": 5,
   "metadata": {
    "scrolled": true
   },
   "outputs": [
    {
     "name": "stdout",
     "output_type": "stream",
     "text": [
      "(60000,) 5\n"
     ]
    }
   ],
   "source": [
    "print(train_labels.shape, train_labels[0])"
   ]
  },
  {
   "cell_type": "markdown",
   "metadata": {},
   "source": [
    "Let's have a look at the test data:"
   ]
  },
  {
   "cell_type": "code",
   "execution_count": 6,
   "metadata": {},
   "outputs": [
    {
     "data": {
      "text/plain": [
       "(10000, 28, 28)"
      ]
     },
     "execution_count": 6,
     "metadata": {},
     "output_type": "execute_result"
    }
   ],
   "source": [
    "test_images.shape"
   ]
  },
  {
   "cell_type": "code",
   "execution_count": 7,
   "metadata": {},
   "outputs": [
    {
     "data": {
      "text/plain": [
       "10000"
      ]
     },
     "execution_count": 7,
     "metadata": {},
     "output_type": "execute_result"
    }
   ],
   "source": [
    "len(test_labels)"
   ]
  },
  {
   "cell_type": "code",
   "execution_count": 8,
   "metadata": {},
   "outputs": [
    {
     "data": {
      "text/plain": [
       "array([7, 2, 1, ..., 4, 5, 6], dtype=uint8)"
      ]
     },
     "execution_count": 8,
     "metadata": {},
     "output_type": "execute_result"
    }
   ],
   "source": [
    "test_labels"
   ]
  },
  {
   "cell_type": "markdown",
   "metadata": {},
   "source": [
    "Let's randomly plot actual images to see and verify their content. We first need to import the `matplotlib` library for visualization, then we can plot the images."
   ]
  },
  {
   "cell_type": "code",
   "execution_count": 9,
   "metadata": {},
   "outputs": [
    {
     "data": {
      "image/png": "[encoded data removed]",
      "text/plain": [
       "<matplotlib.figure.Figure at 0x21d6e2dcc18>"
      ]
     },
     "metadata": {},
     "output_type": "display_data"
    },
    {
     "name": "stdout",
     "output_type": "stream",
     "text": [
      "The label for this image is 5\n"
     ]
    }
   ],
   "source": [
    "import numpy as np\n",
    "import matplotlib.pyplot as plt\n",
    "\n",
    "img = np.random.randint(0, len(train_images))\n",
    "digit = train_images[img]\n",
    "plt.imshow(digit)\n",
    "plt.show()\n",
    "print('The label for this image is', train_labels[img])"
   ]
  },
  {
   "cell_type": "markdown",
   "metadata": {},
   "source": [
    "What does the following instruction do?"
   ]
  },
  {
   "cell_type": "code",
   "execution_count": 10,
   "metadata": {},
   "outputs": [
    {
     "data": {
      "text/plain": [
       "array([0, 1, 2, 3, 4, 5, 6, 7, 8, 9], dtype=uint8)"
      ]
     },
     "execution_count": 10,
     "metadata": {},
     "output_type": "execute_result"
    }
   ],
   "source": [
    "np.unique(train_labels)"
   ]
  },
  {
   "cell_type": "markdown",
   "metadata": {},
   "source": [
    "Our workflow will be as follow: first we will present our neural network with the training data, `train_images` and `train_labels`. The network will then learn to associate images and labels. Finally, we will ask the network to produce predictions for `test_images`, and we will verify if these predictions match the labels from `test_labels`.\n",
    "\n",
    "Let's build our network $-$ again, remember that you aren't supposed to understand everything about this example just yet."
   ]
  },
  {
   "cell_type": "code",
   "execution_count": 11,
   "metadata": {
    "collapsed": true
   },
   "outputs": [],
   "source": [
    "from keras import models\n",
    "from keras import layers\n",
    "\n",
    "network = models.Sequential()\n",
    "network.add(layers.Dense(512, activation='sigmoid', input_shape=(28 * 28,)))\n",
    "network.add(layers.Dense(10, activation='sigmoid'))"
   ]
  },
  {
   "cell_type": "markdown",
   "metadata": {},
   "source": [
    "The core building block of neural networks is the **layer**, a data-processing module which you can conceive as a \"filter\" for data. Some data comes in, and comes out in a more useful form. Precisely, layers extract _representations_ out of the data fed into them $-$ hopefully representations that are more meaningful for the problem at hand. Most of deep learning really consists of chaining together simple layers which will implement a form of progressive \"data distillation\". A deep learning model is like a sieve for data processing, made of a \n",
    "succession of increasingly refined data filters $-$ the \"layers\".\n",
    "\n",
    "Here our network consists of a sequence of two `Dense` layers, which are densely-connected  or **fully-connected** neural layers. The second (and last) layer is a 10-way \"softmax\" layer, which means it will return an array of 10 probability scores (summing to 1). Each score will be the probability that the current digit image belongs to one of our 10 digit classes.\n",
    "\n",
    "To make our network ready for training, we need to pick three more things, as part of the \"compilation\" step:\n",
    "\n",
    "* A _loss function_: this is how the network will be able to measure how good a job it's doing on its training data, and thus how it will be able to steer itself in the right direction.\n",
    "* An _optimizer_: this is the mechanism through which the network will update itself based on the data it sees and its loss function.\n",
    "* Some _metrics_ to monitor during training and testing. Here we will only care about accuracy (the fraction of the images that were correctly classified).\n",
    "\n",
    "The exact purpose of the loss function and the optimizer will be made clear throughout the next two chapters."
   ]
  },
  {
   "cell_type": "code",
   "execution_count": 12,
   "metadata": {
    "collapsed": true
   },
   "outputs": [],
   "source": [
    "network.compile(optimizer='sgd',\n",
    "                loss='categorical_crossentropy',\n",
    "                metrics=['accuracy'])"
   ]
  },
  {
   "cell_type": "markdown",
   "metadata": {},
   "source": [
    "Before training, we will preprocess our data by reshaping it into the shape that the network expects, and scaling it so that all values are in the `[0, 1]` interval. Previously, our training images for instance were stored in an array of shape `(60000, 28, 28)` of type `uint8` with values in the `[0, 255]` interval. We transform it into a `float32` array of shape `(60000, 28 * 28)` with values between 0 and 1."
   ]
  },
  {
   "cell_type": "code",
   "execution_count": 13,
   "metadata": {
    "collapsed": true
   },
   "outputs": [],
   "source": [
    "train_images = train_images.reshape((60000, 28 * 28))\n",
    "train_images = train_images.astype('float32') / 255\n",
    "\n",
    "test_images = test_images.reshape((10000, 28 * 28))\n",
    "test_images = test_images.astype('float32') / 255"
   ]
  },
  {
   "cell_type": "markdown",
   "metadata": {},
   "source": [
    "We also need to categorically encode the labels, a step which we explain in chapter 3:"
   ]
  },
  {
   "cell_type": "code",
   "execution_count": 14,
   "metadata": {},
   "outputs": [],
   "source": [
    "from keras.utils import to_categorical\n",
    "\n",
    "train_labels = to_categorical(train_labels)\n",
    "test_labels = to_categorical(test_labels)\n"
   ]
  },
  {
   "cell_type": "markdown",
   "metadata": {},
   "source": [
    "We are now ready to **train** our network, which in Keras is done via a call to the `fit` method of the network: \n",
    "we \"fit\" the model to its training data."
   ]
  },
  {
   "cell_type": "code",
   "execution_count": 15,
   "metadata": {},
   "outputs": [
    {
     "name": "stdout",
     "output_type": "stream",
     "text": [
      "Epoch 1/5\n",
      "60000/60000 [==============================] - 3s 55us/step - loss: 2.1855 - acc: 0.3948\n",
      "Epoch 2/5\n",
      "60000/60000 [==============================] - 2s 41us/step - loss: 1.6696 - acc: 0.7392\n",
      "Epoch 3/5\n",
      "60000/60000 [==============================] - 2s 42us/step - loss: 1.2111 - acc: 0.7999\n",
      "Epoch 4/5\n",
      "60000/60000 [==============================] - 2s 41us/step - loss: 0.9384 - acc: 0.8270\n",
      "Epoch 5/5\n",
      "60000/60000 [==============================] - 2s 41us/step - loss: 0.7797 - acc: 0.8425\n"
     ]
    },
    {
     "data": {
      "text/plain": [
       "<keras.callbacks.History at 0x21d6e2dc6a0>"
      ]
     },
     "execution_count": 15,
     "metadata": {},
     "output_type": "execute_result"
    }
   ],
   "source": [
    "network.fit(train_images, train_labels, epochs=5, batch_size=128)"
   ]
  },
  {
   "cell_type": "markdown",
   "metadata": {},
   "source": [
    "Two quantities are being displayed during training: the \"loss\" of the network over the training data, and the \"accuracy\" of the network over the training data.\n",
    "\n",
    "We quickly reach an accuracy of 0.989 (i.e. 98.9%) on the training data. Now let's check that our model performs well on the test set too:"
   ]
  },
  {
   "cell_type": "code",
   "execution_count": 16,
   "metadata": {},
   "outputs": [
    {
     "name": "stdout",
     "output_type": "stream",
     "text": [
      "10000/10000 [==============================] - 0s 33us/step\n"
     ]
    }
   ],
   "source": [
    "test_loss, test_acc = network.evaluate(test_images, test_labels)"
   ]
  },
  {
   "cell_type": "code",
   "execution_count": 17,
   "metadata": {},
   "outputs": [
    {
     "name": "stdout",
     "output_type": "stream",
     "text": [
      "test_acc: 0.8556 \n",
      "test_loss: 0.70152542448\n"
     ]
    }
   ],
   "source": [
    "print('test_acc:', test_acc, '\\ntest_loss:', test_loss)"
   ]
  },
  {
   "cell_type": "markdown",
   "metadata": {},
   "source": [
    "Just for comparison, let's explicitly evaluate the model performance information on the training data:"
   ]
  },
  {
   "cell_type": "code",
   "execution_count": 18,
   "metadata": {},
   "outputs": [
    {
     "name": "stdout",
     "output_type": "stream",
     "text": [
      "60000/60000 [==============================] - 2s 31us/step\n"
     ]
    }
   ],
   "source": [
    "train_loss, train_acc = network.evaluate(train_images, train_labels)"
   ]
  },
  {
   "cell_type": "code",
   "execution_count": 19,
   "metadata": {},
   "outputs": [
    {
     "name": "stdout",
     "output_type": "stream",
     "text": [
      "train_acc: 0.848733333333 \n",
      "train_loss: 0.722975920963\n"
     ]
    }
   ],
   "source": [
    "print('train_acc:', train_acc, '\\ntrain_loss:', train_loss)"
   ]
  },
  {
   "cell_type": "markdown",
   "metadata": {},
   "source": [
    "Our **test set accuracy** turns out to be 97.8% $-$ that's quite a bit lower than the **training set accuracy** 99.2%. \n",
    "This gap between training accuracy and test accuracy is an example of \"overfitting\", the fact that machine learning models tend to perform worse on new data than on their training data. Overfitting will be a central topic in chapter 3.\n",
    "\n",
    "This concludes our very first example $-$ you just saw how we could build and a train a neural network to classify handwritten digits, in less than 20 lines of Python code.\n",
    "\n",
    "In the next lecture/lab, we will go in detail over every moving piece we just previewed, and clarify what is really \n",
    "going on behind the scenes."
   ]
  },
  {
   "cell_type": "markdown",
   "metadata": {},
   "source": [
    "### Performance plots as a function of hyper-parameters\n",
    "\n",
    "Do the exercises propose at the end of this notebook in this section."
   ]
  },
  {
   "cell_type": "code",
   "execution_count": 22,
   "metadata": {},
   "outputs": [
    {
     "name": "stdout",
     "output_type": "stream",
     "text": [
      "Epoch 1/5\n",
      "60000/60000 [==============================] - 1s 19us/step - loss: 2.2675 - acc: 0.1099\n",
      "Epoch 2/5\n",
      "60000/60000 [==============================] - 1s 12us/step - loss: 2.1777 - acc: 0.3007\n",
      "Epoch 3/5\n",
      "60000/60000 [==============================] - 1s 14us/step - loss: 2.0793 - acc: 0.5818\n",
      "Epoch 4/5\n",
      "60000/60000 [==============================] - 1s 13us/step - loss: 1.9574 - acc: 0.6866\n",
      "Epoch 5/5\n",
      "60000/60000 [==============================] - 1s 11us/step - loss: 1.8103 - acc: 0.7168\n",
      "10000/10000 [==============================] - 0s 32us/step\n",
      "Epoch 1/5\n",
      "60000/60000 [==============================] - 1s 21us/step - loss: 2.2745 - acc: 0.1136\n",
      "Epoch 2/5\n",
      "60000/60000 [==============================] - 1s 11us/step - loss: 2.1612 - acc: 0.5319\n",
      "Epoch 3/5\n",
      "60000/60000 [==============================] - 1s 12us/step - loss: 1.9631 - acc: 0.7098\n",
      "Epoch 4/5\n",
      "60000/60000 [==============================] - 1s 11us/step - loss: 1.6706 - acc: 0.7512\n",
      "Epoch 5/5\n",
      "60000/60000 [==============================] - 1s 11us/step - loss: 1.3855 - acc: 0.7762\n",
      "10000/10000 [==============================] - 0s 35us/step\n",
      "Epoch 1/5\n",
      "60000/60000 [==============================] - 1s 24us/step - loss: 2.2513 - acc: 0.1180\n",
      "Epoch 2/5\n",
      "60000/60000 [==============================] - 1s 16us/step - loss: 2.0518 - acc: 0.6204\n",
      "Epoch 3/5\n",
      "60000/60000 [==============================] - 1s 15us/step - loss: 1.7145 - acc: 0.7485\n",
      "Epoch 4/5\n",
      "60000/60000 [==============================] - 1s 17us/step - loss: 1.3686 - acc: 0.7837\n",
      "Epoch 5/5\n",
      "60000/60000 [==============================] - 1s 15us/step - loss: 1.1084 - acc: 0.8096\n",
      "10000/10000 [==============================] - 0s 38us/step\n",
      "Epoch 1/5\n",
      "60000/60000 [==============================] - 1s 25us/step - loss: 2.2617 - acc: 0.1817\n",
      "Epoch 2/5\n",
      "60000/60000 [==============================] - 1s 17us/step - loss: 2.0675 - acc: 0.6260\n",
      "Epoch 3/5\n",
      "60000/60000 [==============================] - 1s 15us/step - loss: 1.6872 - acc: 0.7394\n",
      "Epoch 4/5\n",
      "60000/60000 [==============================] - 1s 16us/step - loss: 1.3171 - acc: 0.7831\n",
      "Epoch 5/5\n",
      "60000/60000 [==============================] - 1s 15us/step - loss: 1.0582 - acc: 0.8117\n",
      "10000/10000 [==============================] - 0s 45us/step\n",
      "Epoch 1/5\n",
      "60000/60000 [==============================] - 2s 32us/step - loss: 2.1873 - acc: 0.4351\n",
      "Epoch 2/5\n",
      "60000/60000 [==============================] - 1s 25us/step - loss: 1.8009 - acc: 0.7193\n",
      "Epoch 3/5\n",
      "60000/60000 [==============================] - 1s 20us/step - loss: 1.3786 - acc: 0.7769\n",
      "Epoch 4/5\n",
      "60000/60000 [==============================] - 1s 21us/step - loss: 1.0840 - acc: 0.8078\n",
      "Epoch 5/5\n",
      "60000/60000 [==============================] - 1s 21us/step - loss: 0.8981 - acc: 0.8258\n",
      "10000/10000 [==============================] - 0s 40us/step\n",
      "Epoch 1/5\n",
      "60000/60000 [==============================] - 2s 33us/step - loss: 2.2624 - acc: 0.1419\n",
      "Epoch 2/5\n",
      "60000/60000 [==============================] - 1s 24us/step - loss: 1.9981 - acc: 0.6426\n",
      "Epoch 3/5\n",
      "60000/60000 [==============================] - 1s 24us/step - loss: 1.5432 - acc: 0.7492\n",
      "Epoch 4/5\n",
      "60000/60000 [==============================] - 2s 26us/step - loss: 1.1855 - acc: 0.7933\n",
      "Epoch 5/5\n",
      "60000/60000 [==============================] - 2s 30us/step - loss: 0.9562 - acc: 0.8201\n",
      "10000/10000 [==============================] - 0s 46us/step\n",
      "Epoch 1/5\n",
      "60000/60000 [==============================] - 3s 45us/step - loss: 2.1936 - acc: 0.4004\n",
      "Epoch 2/5\n",
      "60000/60000 [==============================] - 2s 32us/step - loss: 1.7814 - acc: 0.7277\n",
      "Epoch 3/5\n",
      "60000/60000 [==============================] - 2s 31us/step - loss: 1.3390 - acc: 0.7896\n",
      "Epoch 4/5\n",
      "60000/60000 [==============================] - 2s 34us/step - loss: 1.0422 - acc: 0.8190\n",
      "Epoch 5/5\n",
      "60000/60000 [==============================] - 2s 33us/step - loss: 0.8601 - acc: 0.8357\n",
      "10000/10000 [==============================] - 0s 48us/step\n",
      "Epoch 1/5\n",
      "60000/60000 [==============================] - 2s 39us/step - loss: 2.2120 - acc: 0.3755\n",
      "Epoch 2/5\n",
      "60000/60000 [==============================] - 2s 33us/step - loss: 1.7982 - acc: 0.7088\n",
      "Epoch 3/5\n",
      "60000/60000 [==============================] - 2s 33us/step - loss: 1.3420 - acc: 0.7728\n",
      "Epoch 4/5\n",
      "60000/60000 [==============================] - 2s 34us/step - loss: 1.0384 - acc: 0.8084\n",
      "Epoch 5/5\n",
      "60000/60000 [==============================] - 2s 30us/step - loss: 0.8537 - acc: 0.8299\n",
      "10000/10000 [==============================] - 1s 51us/step\n",
      "Epoch 1/5\n",
      "60000/60000 [==============================] - 3s 47us/step - loss: 2.2270 - acc: 0.3116\n",
      "Epoch 2/5\n",
      "60000/60000 [==============================] - 2s 37us/step - loss: 1.8183 - acc: 0.7003\n",
      "Epoch 3/5\n",
      "60000/60000 [==============================] - 2s 37us/step - loss: 1.3478 - acc: 0.7833\n",
      "Epoch 4/5\n",
      "60000/60000 [==============================] - 2s 37us/step - loss: 1.0386 - acc: 0.8161\n",
      "Epoch 5/5\n",
      "60000/60000 [==============================] - 2s 37us/step - loss: 0.8520 - acc: 0.8338\n",
      "10000/10000 [==============================] - 1s 61us/step\n",
      "Epoch 1/5\n",
      "60000/60000 [==============================] - 3s 49us/step - loss: 2.2155 - acc: 0.3256\n",
      "Epoch 2/5\n",
      "60000/60000 [==============================] - 2s 42us/step - loss: 1.7695 - acc: 0.7269\n",
      "Epoch 3/5\n",
      "60000/60000 [==============================] - 3s 43us/step - loss: 1.2976 - acc: 0.7860\n",
      "Epoch 4/5\n",
      "60000/60000 [==============================] - 3s 43us/step - loss: 1.0000 - acc: 0.8172\n",
      "Epoch 5/5\n",
      "60000/60000 [==============================] - 3s 45us/step - loss: 0.8245 - acc: 0.8337\n",
      "10000/10000 [==============================] - 1s 63us/step\n",
      "Epoch 1/5\n",
      "60000/60000 [==============================] - 3s 54us/step - loss: 2.1926 - acc: 0.3850\n",
      "Epoch 2/5\n",
      "60000/60000 [==============================] - 3s 45us/step - loss: 1.7041 - acc: 0.7230\n",
      "Epoch 3/5\n",
      "60000/60000 [==============================] - 3s 46us/step - loss: 1.2459 - acc: 0.7857\n",
      "Epoch 4/5\n",
      "60000/60000 [==============================] - 3s 48us/step - loss: 0.9680 - acc: 0.8180\n",
      "Epoch 5/5\n",
      "60000/60000 [==============================] - 3s 47us/step - loss: 0.8046 - acc: 0.8354\n",
      "10000/10000 [==============================] - 1s 67us/step\n",
      "Epoch 1/5\n",
      "60000/60000 [==============================] - 4s 63us/step - loss: 2.1638 - acc: 0.4202\n",
      "Epoch 2/5\n",
      "60000/60000 [==============================] - 3s 54us/step - loss: 1.6417 - acc: 0.7322\n",
      "Epoch 3/5\n",
      "60000/60000 [==============================] - 3s 58us/step - loss: 1.1990 - acc: 0.7954\n",
      "Epoch 4/5\n",
      "60000/60000 [==============================] - 3s 54us/step - loss: 0.9363 - acc: 0.8249\n",
      "Epoch 5/5\n",
      "60000/60000 [==============================] - 3s 52us/step - loss: 0.7817 - acc: 0.8414\n",
      "10000/10000 [==============================] - 1s 71us/step\n",
      "Epoch 1/5\n",
      "60000/60000 [==============================] - 4s 61us/step - loss: 2.1501 - acc: 0.4242\n",
      "Epoch 2/5\n",
      "60000/60000 [==============================] - 3s 51us/step - loss: 1.6203 - acc: 0.7306\n",
      "Epoch 3/5\n",
      "60000/60000 [==============================] - 3s 52us/step - loss: 1.1871 - acc: 0.7916\n",
      "Epoch 4/5\n",
      "60000/60000 [==============================] - 3s 52us/step - loss: 0.9312 - acc: 0.8209\n",
      "Epoch 5/5\n",
      "60000/60000 [==============================] - 3s 52us/step - loss: 0.7804 - acc: 0.8380\n",
      "10000/10000 [==============================] - 1s 74us/step\n",
      "Epoch 1/5\n",
      "60000/60000 [==============================] - 4s 69us/step - loss: 2.1602 - acc: 0.3973\n",
      "Epoch 2/5\n",
      "60000/60000 [==============================] - 4s 60us/step - loss: 1.6179 - acc: 0.7327\n",
      "Epoch 3/5\n",
      "60000/60000 [==============================] - 3s 58us/step - loss: 1.1779 - acc: 0.7952\n",
      "Epoch 4/5\n",
      "60000/60000 [==============================] - 3s 58us/step - loss: 0.9199 - acc: 0.8249\n",
      "Epoch 5/5\n",
      "60000/60000 [==============================] - 3s 58us/step - loss: 0.7692 - acc: 0.8408\n",
      "10000/10000 [==============================] - 1s 76us/step\n",
      "Epoch 1/5\n",
      "60000/60000 [==============================] - 4s 71us/step - loss: 2.1065 - acc: 0.4923\n",
      "Epoch 2/5\n",
      "60000/60000 [==============================] - 4s 62us/step - loss: 1.5404 - acc: 0.7508\n",
      "Epoch 3/5\n",
      "60000/60000 [==============================] - 4s 64us/step - loss: 1.1270 - acc: 0.8056\n",
      "Epoch 4/5\n",
      "60000/60000 [==============================] - 4s 64us/step - loss: 0.8896 - acc: 0.8302\n",
      "Epoch 5/5\n"
     ]
    },
    {
     "name": "stdout",
     "output_type": "stream",
     "text": [
      "60000/60000 [==============================] - 4s 62us/step - loss: 0.7498 - acc: 0.8434\n",
      "10000/10000 [==============================] - 1s 80us/step\n",
      "Epoch 1/5\n",
      "60000/60000 [==============================] - 5s 77us/step - loss: 2.1388 - acc: 0.4365\n",
      "Epoch 2/5\n",
      "60000/60000 [==============================] - 4s 63us/step - loss: 1.5846 - acc: 0.7436\n",
      "Epoch 3/5\n",
      "60000/60000 [==============================] - 4s 63us/step - loss: 1.1534 - acc: 0.8012\n",
      "Epoch 4/5\n",
      "60000/60000 [==============================] - 4s 63us/step - loss: 0.9027 - acc: 0.8285\n",
      "Epoch 5/5\n",
      "60000/60000 [==============================] - 4s 63us/step - loss: 0.7564 - acc: 0.8436\n",
      "10000/10000 [==============================] - 1s 82us/step\n",
      "Epoch 1/5\n",
      "60000/60000 [==============================] - 5s 75us/step - loss: 2.1185 - acc: 0.4671\n",
      "Epoch 2/5\n",
      "60000/60000 [==============================] - 4s 66us/step - loss: 1.5446 - acc: 0.7465\n",
      "Epoch 3/5\n",
      "60000/60000 [==============================] - 4s 66us/step - loss: 1.1224 - acc: 0.8037\n",
      "Epoch 4/5\n",
      "60000/60000 [==============================] - 4s 66us/step - loss: 0.8823 - acc: 0.8310\n",
      "Epoch 5/5\n",
      "60000/60000 [==============================] - 4s 66us/step - loss: 0.7426 - acc: 0.8448\n",
      "10000/10000 [==============================] - 1s 85us/step\n",
      "Epoch 1/5\n",
      "60000/60000 [==============================] - 5s 80us/step - loss: 2.1270 - acc: 0.4477\n",
      "Epoch 2/5\n",
      "60000/60000 [==============================] - 4s 70us/step - loss: 1.5468 - acc: 0.7434\n",
      "Epoch 3/5\n",
      "60000/60000 [==============================] - 4s 75us/step - loss: 1.1220 - acc: 0.7999\n",
      "Epoch 4/5\n",
      "60000/60000 [==============================] - 4s 72us/step - loss: 0.8830 - acc: 0.8278\n",
      "Epoch 5/5\n",
      "60000/60000 [==============================] - 4s 70us/step - loss: 0.7438 - acc: 0.8446\n",
      "10000/10000 [==============================] - 1s 87us/step\n",
      "Epoch 1/5\n",
      "60000/60000 [==============================] - 5s 85us/step - loss: 2.0750 - acc: 0.4861\n",
      "Epoch 2/5\n",
      "60000/60000 [==============================] - 4s 74us/step - loss: 1.4825 - acc: 0.7553\n",
      "Epoch 3/5\n",
      "60000/60000 [==============================] - 4s 75us/step - loss: 1.0814 - acc: 0.8053\n",
      "Epoch 4/5\n",
      "60000/60000 [==============================] - 4s 75us/step - loss: 0.8582 - acc: 0.8299\n",
      "Epoch 5/5\n",
      "60000/60000 [==============================] - 4s 72us/step - loss: 0.7279 - acc: 0.8446\n",
      "10000/10000 [==============================] - 1s 106us/step\n",
      "Epoch 1/5\n",
      "60000/60000 [==============================] - 5s 87us/step - loss: 2.1175 - acc: 0.4516\n",
      "Epoch 2/5\n",
      "60000/60000 [==============================] - 5s 77us/step - loss: 1.5270 - acc: 0.7392\n",
      "Epoch 3/5\n",
      "60000/60000 [==============================] - 5s 76us/step - loss: 1.1068 - acc: 0.8006\n",
      "Epoch 4/5\n",
      "60000/60000 [==============================] - 5s 80us/step - loss: 0.8712 - acc: 0.8287\n",
      "Epoch 5/5\n",
      "60000/60000 [==============================] - 5s 81us/step - loss: 0.7351 - acc: 0.8435\n",
      "10000/10000 [==============================] - 1s 115us/step\n",
      "Epoch 1/5\n",
      "60000/60000 [==============================] - 6s 94us/step - loss: 2.0632 - acc: 0.5034\n",
      "Epoch 2/5\n",
      "60000/60000 [==============================] - 5s 83us/step - loss: 1.4739 - acc: 0.7568\n",
      "Epoch 3/5\n",
      "60000/60000 [==============================] - 5s 82us/step - loss: 1.0784 - acc: 0.8072\n",
      "Epoch 4/5\n",
      "60000/60000 [==============================] - 5s 86us/step - loss: 0.8558 - acc: 0.8313\n",
      "Epoch 5/5\n",
      "60000/60000 [==============================] - 5s 80us/step - loss: 0.7255 - acc: 0.8456\n",
      "10000/10000 [==============================] - 1s 101us/step\n",
      "Epoch 1/5\n",
      "60000/60000 [==============================] - 6s 95us/step - loss: 2.0850 - acc: 0.4800\n",
      "Epoch 2/5\n",
      "60000/60000 [==============================] - 5s 89us/step - loss: 1.4829 - acc: 0.7549\n",
      "Epoch 3/5\n",
      "60000/60000 [==============================] - 5s 86us/step - loss: 1.0770 - acc: 0.8068\n",
      "Epoch 4/5\n",
      "60000/60000 [==============================] - 5s 83us/step - loss: 0.8523 - acc: 0.8320\n",
      "Epoch 5/5\n",
      "60000/60000 [==============================] - 5s 83us/step - loss: 0.7216 - acc: 0.8458\n",
      "10000/10000 [==============================] - 1s 100us/step\n",
      "Epoch 1/5\n",
      "60000/60000 [==============================] - 6s 103us/step - loss: 2.0624 - acc: 0.4943\n",
      "Epoch 2/5\n",
      "60000/60000 [==============================] - 5s 91us/step - loss: 1.4533 - acc: 0.7554\n",
      "Epoch 3/5\n",
      "60000/60000 [==============================] - 5s 87us/step - loss: 1.0609 - acc: 0.8068\n",
      "Epoch 4/5\n",
      "60000/60000 [==============================] - 5s 86us/step - loss: 0.8446 - acc: 0.8328\n",
      "Epoch 5/5\n",
      "60000/60000 [==============================] - 5s 87us/step - loss: 0.7181 - acc: 0.8461\n",
      "10000/10000 [==============================] - 1s 104us/step\n",
      "Epoch 1/5\n",
      "60000/60000 [==============================] - 6s 103us/step - loss: 2.1059 - acc: 0.4239\n",
      "Epoch 2/5\n",
      "60000/60000 [==============================] - 5s 89us/step - loss: 1.4989 - acc: 0.7496\n",
      "Epoch 3/5\n",
      "60000/60000 [==============================] - 5s 90us/step - loss: 1.0839 - acc: 0.8069\n",
      "Epoch 4/5\n",
      "60000/60000 [==============================] - 5s 89us/step - loss: 0.8546 - acc: 0.8307\n",
      "Epoch 5/5\n",
      "60000/60000 [==============================] - 5s 89us/step - loss: 0.7224 - acc: 0.8451\n",
      "10000/10000 [==============================] - 1s 107us/step\n",
      "Epoch 1/5\n",
      "60000/60000 [==============================] - 6s 106us/step - loss: 2.0374 - acc: 0.5075\n",
      "Epoch 2/5\n",
      "60000/60000 [==============================] - 6s 93us/step - loss: 1.4300 - acc: 0.7631\n",
      "Epoch 3/5\n",
      "60000/60000 [==============================] - 6s 94us/step - loss: 1.0431 - acc: 0.8124\n",
      "Epoch 4/5\n",
      "60000/60000 [==============================] - 6s 94us/step - loss: 0.8307 - acc: 0.8343\n",
      "Epoch 5/5\n",
      "60000/60000 [==============================] - 6s 93us/step - loss: 0.7069 - acc: 0.8484\n",
      "10000/10000 [==============================] - 1s 109us/step\n"
     ]
    },
    {
     "data": {
      "image/png": "[encoded data removed]",
      "text/plain": [
       "<matplotlib.figure.Figure at 0x21d201503c8>"
      ]
     },
     "metadata": {},
     "output_type": "display_data"
    }
   ],
   "source": [
    "# insert code to plot model performance as a function of epochs, batch size, etc.\n",
    "import matplotlib.pyplot as plt\n",
    "\n",
    "acc_nc = []\n",
    "\n",
    "(train_images, train_labels), (test_images, test_labels) = mnist.load_data()\n",
    "\n",
    "train_images = train_images.reshape((60000, 28 * 28))\n",
    "train_images = train_images.astype('float32') / 255\n",
    "\n",
    "test_images = test_images.reshape((10000, 28 * 28))\n",
    "test_images = test_images.astype('float32') / 255\n",
    "\n",
    "train_labels = to_categorical(train_labels)\n",
    "test_labels = to_categorical(test_labels)\n",
    "\n",
    "for i in range(20,1000,40):\n",
    "    network = models.Sequential()\n",
    "    network.add(layers.Dense(i, activation='sigmoid', input_shape=(28 * 28,)))\n",
    "    network.add(layers.Dense(10, activation='sigmoid'))\n",
    "    network.compile(optimizer='sgd',\n",
    "                    loss='categorical_crossentropy',\n",
    "                    metrics=['accuracy'])\n",
    "    network.fit(train_images, train_labels, epochs=5, batch_size=128)\n",
    "    test_loss, test_acc = network.evaluate(test_images, test_labels)\n",
    "    acc_nc.append(test_acc)\n",
    "\n",
    "plt.plot(range(20,1000,40), acc_nc)\n",
    "plt.xlabel('Number of layers')\n",
    "plt.ylabel('Accuracy')\n",
    "plt.show()"
   ]
  },
  {
   "cell_type": "code",
   "execution_count": 24,
   "metadata": {},
   "outputs": [
    {
     "name": "stdout",
     "output_type": "stream",
     "text": [
      "Epoch 1/5\n",
      "60000/60000 [==============================] - 4s 62us/step - loss: 2.1644 - acc: 0.4081\n",
      "Epoch 2/5\n",
      "60000/60000 [==============================] - 3s 54us/step - loss: 1.6315 - acc: 0.7255\n",
      "Epoch 3/5\n",
      "60000/60000 [==============================] - 3s 52us/step - loss: 1.1899 - acc: 0.7869\n",
      "Epoch 4/5\n",
      "60000/60000 [==============================] - 3s 51us/step - loss: 0.9296 - acc: 0.8202\n",
      "Epoch 5/5\n",
      "60000/60000 [==============================] - 3s 52us/step - loss: 0.7769 - acc: 0.8395\n",
      "10000/10000 [==============================] - 1s 85us/step\n",
      "Epoch 1/15\n",
      "60000/60000 [==============================] - 4s 65us/step - loss: 2.1401 - acc: 0.4299\n",
      "Epoch 2/15\n",
      "60000/60000 [==============================] - 3s 52us/step - loss: 1.5950 - acc: 0.7324\n",
      "Epoch 3/15\n",
      "60000/60000 [==============================] - 3s 54us/step - loss: 1.1672 - acc: 0.7903\n",
      "Epoch 4/15\n",
      "60000/60000 [==============================] - 3s 52us/step - loss: 0.9175 - acc: 0.8191\n",
      "Epoch 5/15\n",
      "60000/60000 [==============================] - 3s 52us/step - loss: 0.7706 - acc: 0.8377\n",
      "Epoch 6/15\n",
      "60000/60000 [==============================] - 3s 52us/step - loss: 0.6771 - acc: 0.8485\n",
      "Epoch 7/15\n",
      "60000/60000 [==============================] - 3s 52us/step - loss: 0.6129 - acc: 0.8570\n",
      "Epoch 8/15\n",
      "60000/60000 [==============================] - 3s 52us/step - loss: 0.5664 - acc: 0.8643\n",
      "Epoch 9/15\n",
      "60000/60000 [==============================] - 3s 52us/step - loss: 0.5309 - acc: 0.8698\n",
      "Epoch 10/15\n",
      "60000/60000 [==============================] - 3s 53us/step - loss: 0.5031 - acc: 0.8744\n",
      "Epoch 11/15\n",
      "60000/60000 [==============================] - 3s 54us/step - loss: 0.4809 - acc: 0.8774\n",
      "Epoch 12/15\n",
      "60000/60000 [==============================] - 4s 59us/step - loss: 0.4625 - acc: 0.8807\n",
      "Epoch 13/15\n",
      "60000/60000 [==============================] - 3s 54us/step - loss: 0.4472 - acc: 0.8829\n",
      "Epoch 14/15\n",
      "60000/60000 [==============================] - 3s 52us/step - loss: 0.4341 - acc: 0.8849\n",
      "Epoch 15/15\n",
      "60000/60000 [==============================] - 3s 52us/step - loss: 0.4230 - acc: 0.8865\n",
      "10000/10000 [==============================] - 1s 85us/step\n",
      "Epoch 1/25\n",
      "60000/60000 [==============================] - 4s 65us/step - loss: 2.1323 - acc: 0.4585\n",
      "Epoch 2/25\n",
      "60000/60000 [==============================] - 3s 52us/step - loss: 1.5892 - acc: 0.7415\n",
      "Epoch 3/25\n",
      "60000/60000 [==============================] - 3s 55us/step - loss: 1.1618 - acc: 0.8010\n",
      "Epoch 4/25\n",
      "60000/60000 [==============================] - 3s 54us/step - loss: 0.9109 - acc: 0.8280\n",
      "Epoch 5/25\n",
      "60000/60000 [==============================] - 3s 54us/step - loss: 0.7632 - acc: 0.8440\n",
      "Epoch 6/25\n",
      "60000/60000 [==============================] - 3s 54us/step - loss: 0.6698 - acc: 0.8538\n",
      "Epoch 7/25\n",
      "60000/60000 [==============================] - 3s 53us/step - loss: 0.6064 - acc: 0.8608\n",
      "Epoch 8/25\n",
      "60000/60000 [==============================] - 3s 53us/step - loss: 0.5607 - acc: 0.8671\n",
      "Epoch 9/25\n",
      "60000/60000 [==============================] - 3s 56us/step - loss: 0.5261 - acc: 0.8714\n",
      "Epoch 10/25\n",
      "60000/60000 [==============================] - 3s 54us/step - loss: 0.4991 - acc: 0.8749\n",
      "Epoch 11/25\n",
      "60000/60000 [==============================] - 3s 53us/step - loss: 0.4776 - acc: 0.8782\n",
      "Epoch 12/25\n",
      "60000/60000 [==============================] - 3s 58us/step - loss: 0.4598 - acc: 0.8807\n",
      "Epoch 13/25\n",
      "60000/60000 [==============================] - 4s 63us/step - loss: 0.4450 - acc: 0.8831\n",
      "Epoch 14/25\n",
      "60000/60000 [==============================] - 4s 61us/step - loss: 0.4323 - acc: 0.8847\n",
      "Epoch 15/25\n",
      "60000/60000 [==============================] - 3s 54us/step - loss: 0.4215 - acc: 0.8874\n",
      "Epoch 16/25\n",
      "60000/60000 [==============================] - 3s 55us/step - loss: 0.4121 - acc: 0.8886\n",
      "Epoch 17/25\n",
      "60000/60000 [==============================] - 3s 54us/step - loss: 0.4038 - acc: 0.8898\n",
      "Epoch 18/25\n",
      "60000/60000 [==============================] - 3s 56us/step - loss: 0.3964 - acc: 0.8910\n",
      "Epoch 19/25\n",
      "60000/60000 [==============================] - 3s 53us/step - loss: 0.3897 - acc: 0.8928\n",
      "Epoch 20/25\n",
      "60000/60000 [==============================] - 3s 55us/step - loss: 0.3838 - acc: 0.8937\n",
      "Epoch 21/25\n",
      "60000/60000 [==============================] - 3s 54us/step - loss: 0.3783 - acc: 0.8949\n",
      "Epoch 22/25\n",
      "60000/60000 [==============================] - 3s 54us/step - loss: 0.3735 - acc: 0.8957\n",
      "Epoch 23/25\n",
      "60000/60000 [==============================] - 3s 54us/step - loss: 0.3689 - acc: 0.8969\n",
      "Epoch 24/25\n",
      "60000/60000 [==============================] - 3s 55us/step - loss: 0.3649 - acc: 0.8978\n",
      "Epoch 25/25\n",
      "60000/60000 [==============================] - 3s 54us/step - loss: 0.3609 - acc: 0.8988\n",
      "10000/10000 [==============================] - 1s 89us/step\n",
      "Epoch 1/35\n",
      "60000/60000 [==============================] - 4s 68us/step - loss: 2.1615 - acc: 0.4305\n",
      "Epoch 2/35\n",
      "60000/60000 [==============================] - 3s 54us/step - loss: 1.6262 - acc: 0.7322\n",
      "Epoch 3/35\n",
      "60000/60000 [==============================] - 3s 54us/step - loss: 1.1843 - acc: 0.7970\n",
      "Epoch 4/35\n",
      "60000/60000 [==============================] - 3s 54us/step - loss: 0.9249 - acc: 0.8248\n",
      "Epoch 5/35\n",
      "60000/60000 [==============================] - 3s 53us/step - loss: 0.7737 - acc: 0.8392\n",
      "Epoch 6/35\n",
      "60000/60000 [==============================] - 3s 54us/step - loss: 0.6786 - acc: 0.8503\n",
      "Epoch 7/35\n",
      "60000/60000 [==============================] - 3s 54us/step - loss: 0.6138 - acc: 0.8580\n",
      "Epoch 8/35\n",
      "60000/60000 [==============================] - 3s 54us/step - loss: 0.5671 - acc: 0.8641\n",
      "Epoch 9/35\n",
      "60000/60000 [==============================] - 3s 53us/step - loss: 0.5319 - acc: 0.8695\n",
      "Epoch 10/35\n",
      "60000/60000 [==============================] - 3s 54us/step - loss: 0.5042 - acc: 0.8735\n",
      "Epoch 11/35\n",
      "60000/60000 [==============================] - 3s 57us/step - loss: 0.4821 - acc: 0.8770\n",
      "Epoch 12/35\n",
      "60000/60000 [==============================] - 3s 57us/step - loss: 0.4637 - acc: 0.8799\n",
      "Epoch 13/35\n",
      "60000/60000 [==============================] - 3s 57us/step - loss: 0.4485 - acc: 0.8821\n",
      "Epoch 14/35\n",
      "60000/60000 [==============================] - 3s 55us/step - loss: 0.4355 - acc: 0.8848\n",
      "Epoch 15/35\n",
      "60000/60000 [==============================] - 3s 57us/step - loss: 0.4243 - acc: 0.8868\n",
      "Epoch 16/35\n",
      "60000/60000 [==============================] - 3s 55us/step - loss: 0.4146 - acc: 0.8883\n",
      "Epoch 17/35\n",
      "60000/60000 [==============================] - 4s 59us/step - loss: 0.4061 - acc: 0.8903\n",
      "Epoch 18/35\n",
      "60000/60000 [==============================] - 4s 60us/step - loss: 0.3984 - acc: 0.8916\n",
      "Epoch 19/35\n",
      "60000/60000 [==============================] - 3s 57us/step - loss: 0.3916 - acc: 0.8928\n",
      "Epoch 20/35\n",
      "60000/60000 [==============================] - 3s 53us/step - loss: 0.3856 - acc: 0.8939\n",
      "Epoch 21/35\n",
      "60000/60000 [==============================] - 3s 54us/step - loss: 0.3800 - acc: 0.8953\n",
      "Epoch 22/35\n",
      "60000/60000 [==============================] - 3s 53us/step - loss: 0.3750 - acc: 0.8961\n",
      "Epoch 23/35\n",
      "60000/60000 [==============================] - 3s 54us/step - loss: 0.3702 - acc: 0.8972\n",
      "Epoch 24/35\n",
      "60000/60000 [==============================] - 3s 54us/step - loss: 0.3661 - acc: 0.8979\n",
      "Epoch 25/35\n",
      "60000/60000 [==============================] - 3s 54us/step - loss: 0.3622 - acc: 0.8981\n",
      "Epoch 26/35\n",
      "60000/60000 [==============================] - 3s 55us/step - loss: 0.3584 - acc: 0.8991\n",
      "Epoch 27/35\n",
      "60000/60000 [==============================] - 3s 55us/step - loss: 0.3550 - acc: 0.9001\n",
      "Epoch 28/35\n",
      "60000/60000 [==============================] - 3s 56us/step - loss: 0.3519 - acc: 0.9008\n",
      "Epoch 29/35\n",
      "60000/60000 [==============================] - 3s 56us/step - loss: 0.3489 - acc: 0.9016\n",
      "Epoch 30/35\n",
      "60000/60000 [==============================] - 3s 55us/step - loss: 0.3461 - acc: 0.9021\n",
      "Epoch 31/35\n",
      "60000/60000 [==============================] - 3s 55us/step - loss: 0.3435 - acc: 0.9023\n",
      "Epoch 32/35\n",
      "60000/60000 [==============================] - 3s 54us/step - loss: 0.3410 - acc: 0.9035\n",
      "Epoch 33/35\n",
      "60000/60000 [==============================] - 3s 56us/step - loss: 0.3387 - acc: 0.9041\n",
      "Epoch 34/35\n",
      "60000/60000 [==============================] - 3s 54us/step - loss: 0.3364 - acc: 0.9043\n",
      "Epoch 35/35\n"
     ]
    },
    {
     "name": "stdout",
     "output_type": "stream",
     "text": [
      "60000/60000 [==============================] - 3s 57us/step - loss: 0.3343 - acc: 0.9050\n",
      "10000/10000 [==============================] - 1s 91us/step\n",
      "Epoch 1/45\n",
      "60000/60000 [==============================] - 4s 68us/step - loss: 2.1908 - acc: 0.3820\n",
      "Epoch 2/45\n",
      "60000/60000 [==============================] - 3s 54us/step - loss: 1.6721 - acc: 0.7354\n",
      "Epoch 3/45\n",
      "60000/60000 [==============================] - 3s 53us/step - loss: 1.2105 - acc: 0.7976\n",
      "Epoch 4/45\n",
      "60000/60000 [==============================] - 3s 53us/step - loss: 0.9386 - acc: 0.8237\n",
      "Epoch 5/45\n",
      "60000/60000 [==============================] - 3s 53us/step - loss: 0.7812 - acc: 0.8408\n",
      "Epoch 6/45\n",
      "60000/60000 [==============================] - 3s 53us/step - loss: 0.6831 - acc: 0.8508\n",
      "Epoch 7/45\n",
      "60000/60000 [==============================] - 3s 53us/step - loss: 0.6170 - acc: 0.8588\n",
      "Epoch 8/45\n",
      "60000/60000 [==============================] - 4s 61us/step - loss: 0.5696 - acc: 0.8651\n",
      "Epoch 9/45\n",
      "60000/60000 [==============================] - 3s 56us/step - loss: 0.5337 - acc: 0.8693\n",
      "Epoch 10/45\n",
      "60000/60000 [==============================] - 4s 58us/step - loss: 0.5058 - acc: 0.8742\n",
      "Epoch 11/45\n",
      "60000/60000 [==============================] - 3s 54us/step - loss: 0.4833 - acc: 0.8777\n",
      "Epoch 12/45\n",
      "60000/60000 [==============================] - 3s 55us/step - loss: 0.4649 - acc: 0.8801\n",
      "Epoch 13/45\n",
      "60000/60000 [==============================] - 3s 56us/step - loss: 0.4494 - acc: 0.8825\n",
      "Epoch 14/45\n",
      "60000/60000 [==============================] - 3s 57us/step - loss: 0.4364 - acc: 0.8852\n",
      "Epoch 15/45\n",
      "60000/60000 [==============================] - 3s 54us/step - loss: 0.4251 - acc: 0.8869\n",
      "Epoch 16/45\n",
      "60000/60000 [==============================] - 3s 54us/step - loss: 0.4153 - acc: 0.8884\n",
      "Epoch 17/45\n",
      "60000/60000 [==============================] - 3s 54us/step - loss: 0.4067 - acc: 0.8899\n",
      "Epoch 18/45\n",
      "60000/60000 [==============================] - 3s 55us/step - loss: 0.3991 - acc: 0.8913\n",
      "Epoch 19/45\n",
      "60000/60000 [==============================] - 3s 54us/step - loss: 0.3921 - acc: 0.8924\n",
      "Epoch 20/45\n",
      "60000/60000 [==============================] - 3s 58us/step - loss: 0.3860 - acc: 0.8937\n",
      "Epoch 21/45\n",
      "60000/60000 [==============================] - 4s 59us/step - loss: 0.3804 - acc: 0.8945\n",
      "Epoch 22/45\n",
      "60000/60000 [==============================] - 3s 55us/step - loss: 0.3754 - acc: 0.8958\n",
      "Epoch 23/45\n",
      "60000/60000 [==============================] - 3s 54us/step - loss: 0.3707 - acc: 0.8968\n",
      "Epoch 24/45\n",
      "60000/60000 [==============================] - 4s 58us/step - loss: 0.3664 - acc: 0.8975\n",
      "Epoch 25/45\n",
      "60000/60000 [==============================] - 4s 60us/step - loss: 0.3624 - acc: 0.8987\n",
      "Epoch 26/45\n",
      "60000/60000 [==============================] - 3s 55us/step - loss: 0.3589 - acc: 0.8993\n",
      "Epoch 27/45\n",
      "60000/60000 [==============================] - 3s 54us/step - loss: 0.3554 - acc: 0.9000\n",
      "Epoch 28/45\n",
      "60000/60000 [==============================] - 3s 54us/step - loss: 0.3523 - acc: 0.9002\n",
      "Epoch 29/45\n",
      "60000/60000 [==============================] - 3s 54us/step - loss: 0.3492 - acc: 0.9017\n",
      "Epoch 30/45\n",
      "60000/60000 [==============================] - 3s 55us/step - loss: 0.3465 - acc: 0.9018\n",
      "Epoch 31/45\n",
      "60000/60000 [==============================] - 3s 57us/step - loss: 0.3438 - acc: 0.9020\n",
      "Epoch 32/45\n",
      "60000/60000 [==============================] - 3s 58us/step - loss: 0.3413 - acc: 0.9027\n",
      "Epoch 33/45\n",
      "60000/60000 [==============================] - 3s 58us/step - loss: 0.3390 - acc: 0.9040\n",
      "Epoch 34/45\n",
      "60000/60000 [==============================] - 4s 60us/step - loss: 0.3369 - acc: 0.9042\n",
      "Epoch 35/45\n",
      "60000/60000 [==============================] - 3s 55us/step - loss: 0.3347 - acc: 0.9048\n",
      "Epoch 36/45\n",
      "60000/60000 [==============================] - 4s 59us/step - loss: 0.3327 - acc: 0.9056\n",
      "Epoch 37/45\n",
      "60000/60000 [==============================] - 3s 56us/step - loss: 0.3308 - acc: 0.9063\n",
      "Epoch 38/45\n",
      "60000/60000 [==============================] - 3s 55us/step - loss: 0.3290 - acc: 0.9063\n",
      "Epoch 39/45\n",
      "60000/60000 [==============================] - 3s 55us/step - loss: 0.3271 - acc: 0.9069\n",
      "Epoch 40/45\n",
      "60000/60000 [==============================] - 3s 54us/step - loss: 0.3256 - acc: 0.9075\n",
      "Epoch 41/45\n",
      "60000/60000 [==============================] - 3s 56us/step - loss: 0.3239 - acc: 0.9078\n",
      "Epoch 42/45\n",
      "60000/60000 [==============================] - 3s 55us/step - loss: 0.3224 - acc: 0.9081\n",
      "Epoch 43/45\n",
      "60000/60000 [==============================] - 3s 55us/step - loss: 0.3210 - acc: 0.9086\n",
      "Epoch 44/45\n",
      "60000/60000 [==============================] - 3s 56us/step - loss: 0.3195 - acc: 0.9087\n",
      "Epoch 45/45\n",
      "60000/60000 [==============================] - 3s 55us/step - loss: 0.3180 - acc: 0.9094\n",
      "10000/10000 [==============================] - 1s 97us/step\n",
      "Epoch 1/55\n",
      "60000/60000 [==============================] - 4s 70us/step - loss: 2.1538 - acc: 0.4442\n",
      "Epoch 2/55\n",
      "60000/60000 [==============================] - 3s 58us/step - loss: 1.6251 - acc: 0.7249\n",
      "Epoch 3/55\n",
      "60000/60000 [==============================] - 3s 55us/step - loss: 1.1908 - acc: 0.7921\n",
      "Epoch 4/55\n",
      "60000/60000 [==============================] - 3s 55us/step - loss: 0.9315 - acc: 0.8230\n",
      "Epoch 5/55\n",
      "60000/60000 [==============================] - 3s 57us/step - loss: 0.7779 - acc: 0.8397\n",
      "Epoch 6/55\n",
      "60000/60000 [==============================] - 3s 57us/step - loss: 0.6808 - acc: 0.8511\n",
      "Epoch 7/55\n",
      "60000/60000 [==============================] - 3s 53us/step - loss: 0.6148 - acc: 0.8591\n",
      "Epoch 8/55\n",
      "60000/60000 [==============================] - 3s 54us/step - loss: 0.5673 - acc: 0.8652\n",
      "Epoch 9/55\n",
      "60000/60000 [==============================] - 3s 54us/step - loss: 0.5316 - acc: 0.8702\n",
      "Epoch 10/55\n",
      "60000/60000 [==============================] - 3s 53us/step - loss: 0.5036 - acc: 0.8746\n",
      "Epoch 11/55\n",
      "60000/60000 [==============================] - 3s 54us/step - loss: 0.4813 - acc: 0.8777\n",
      "Epoch 12/55\n",
      "60000/60000 [==============================] - 4s 59us/step - loss: 0.4630 - acc: 0.8803\n",
      "Epoch 13/55\n",
      "60000/60000 [==============================] - 3s 55us/step - loss: 0.4477 - acc: 0.8826\n",
      "Epoch 14/55\n",
      "60000/60000 [==============================] - 3s 57us/step - loss: 0.4347 - acc: 0.8851\n",
      "Epoch 15/55\n",
      "60000/60000 [==============================] - 4s 60us/step - loss: 0.4236 - acc: 0.8871\n",
      "Epoch 16/55\n",
      "60000/60000 [==============================] - 3s 57us/step - loss: 0.4138 - acc: 0.8883\n",
      "Epoch 17/55\n",
      "60000/60000 [==============================] - 3s 56us/step - loss: 0.4053 - acc: 0.8899\n",
      "Epoch 18/55\n",
      "60000/60000 [==============================] - 3s 55us/step - loss: 0.3977 - acc: 0.8912\n",
      "Epoch 19/55\n",
      "60000/60000 [==============================] - 3s 56us/step - loss: 0.3909 - acc: 0.8925\n",
      "Epoch 20/55\n",
      "60000/60000 [==============================] - 3s 55us/step - loss: 0.3849 - acc: 0.8935\n",
      "Epoch 21/55\n",
      "60000/60000 [==============================] - 3s 55us/step - loss: 0.3794 - acc: 0.8952\n",
      "Epoch 22/55\n",
      "60000/60000 [==============================] - 3s 55us/step - loss: 0.3743 - acc: 0.8961\n",
      "Epoch 23/55\n",
      "60000/60000 [==============================] - 3s 55us/step - loss: 0.3698 - acc: 0.8968\n",
      "Epoch 24/55\n",
      "60000/60000 [==============================] - 3s 55us/step - loss: 0.3655 - acc: 0.8974\n",
      "Epoch 25/55\n",
      "60000/60000 [==============================] - 3s 56us/step - loss: 0.3616 - acc: 0.8982\n",
      "Epoch 26/55\n",
      "60000/60000 [==============================] - 3s 55us/step - loss: 0.3579 - acc: 0.8988\n",
      "Epoch 27/55\n",
      "60000/60000 [==============================] - 3s 56us/step - loss: 0.3545 - acc: 0.9001\n",
      "Epoch 28/55\n",
      "60000/60000 [==============================] - 3s 56us/step - loss: 0.3514 - acc: 0.9006\n",
      "Epoch 29/55\n",
      "60000/60000 [==============================] - 3s 56us/step - loss: 0.3485 - acc: 0.9012\n",
      "Epoch 30/55\n",
      "60000/60000 [==============================] - 3s 56us/step - loss: 0.3457 - acc: 0.9021\n",
      "Epoch 31/55\n",
      "60000/60000 [==============================] - 3s 56us/step - loss: 0.3431 - acc: 0.9026\n",
      "Epoch 32/55\n",
      "60000/60000 [==============================] - 3s 56us/step - loss: 0.3406 - acc: 0.9034\n",
      "Epoch 33/55\n",
      "60000/60000 [==============================] - 3s 56us/step - loss: 0.3384 - acc: 0.9037\n",
      "Epoch 34/55\n",
      "60000/60000 [==============================] - 3s 56us/step - loss: 0.3361 - acc: 0.9045\n",
      "Epoch 35/55\n"
     ]
    },
    {
     "name": "stdout",
     "output_type": "stream",
     "text": [
      "60000/60000 [==============================] - 3s 52us/step - loss: 0.3340 - acc: 0.9049\n",
      "Epoch 36/55\n",
      "60000/60000 [==============================] - 3s 54us/step - loss: 0.3320 - acc: 0.9052\n",
      "Epoch 37/55\n",
      "60000/60000 [==============================] - 3s 54us/step - loss: 0.3301 - acc: 0.9057\n",
      "Epoch 38/55\n",
      "60000/60000 [==============================] - 3s 53us/step - loss: 0.3282 - acc: 0.9064\n",
      "Epoch 39/55\n",
      "60000/60000 [==============================] - 3s 53us/step - loss: 0.3266 - acc: 0.9066\n",
      "Epoch 40/55\n",
      "60000/60000 [==============================] - 3s 53us/step - loss: 0.3248 - acc: 0.9074\n",
      "Epoch 41/55\n",
      "60000/60000 [==============================] - 3s 53us/step - loss: 0.3233 - acc: 0.9078\n",
      "Epoch 42/55\n",
      "60000/60000 [==============================] - 3s 53us/step - loss: 0.3218 - acc: 0.9079\n",
      "Epoch 43/55\n",
      "60000/60000 [==============================] - 3s 54us/step - loss: 0.3202 - acc: 0.9085\n",
      "Epoch 44/55\n",
      "60000/60000 [==============================] - 3s 53us/step - loss: 0.3188 - acc: 0.9087\n",
      "Epoch 45/55\n",
      "60000/60000 [==============================] - 3s 55us/step - loss: 0.3174 - acc: 0.9088\n",
      "Epoch 46/55\n",
      "60000/60000 [==============================] - 3s 54us/step - loss: 0.3162 - acc: 0.9094\n",
      "Epoch 47/55\n",
      "60000/60000 [==============================] - 3s 53us/step - loss: 0.3149 - acc: 0.9098\n",
      "Epoch 48/55\n",
      "60000/60000 [==============================] - 3s 53us/step - loss: 0.3136 - acc: 0.9104\n",
      "Epoch 49/55\n",
      "60000/60000 [==============================] - 3s 53us/step - loss: 0.3124 - acc: 0.9105\n",
      "Epoch 50/55\n",
      "60000/60000 [==============================] - 3s 54us/step - loss: 0.3112 - acc: 0.9108\n",
      "Epoch 51/55\n",
      "60000/60000 [==============================] - 4s 59us/step - loss: 0.3101 - acc: 0.9112\n",
      "Epoch 52/55\n",
      "60000/60000 [==============================] - 3s 57us/step - loss: 0.3090 - acc: 0.9113\n",
      "Epoch 53/55\n",
      "60000/60000 [==============================] - 3s 54us/step - loss: 0.3079 - acc: 0.9120\n",
      "Epoch 54/55\n",
      "60000/60000 [==============================] - 3s 57us/step - loss: 0.3069 - acc: 0.9120\n",
      "Epoch 55/55\n",
      "60000/60000 [==============================] - 3s 56us/step - loss: 0.3059 - acc: 0.9124\n",
      "10000/10000 [==============================] - 1s 90us/step\n",
      "Epoch 1/65\n",
      "60000/60000 [==============================] - 5s 76us/step - loss: 2.1166 - acc: 0.4774\n",
      "Epoch 2/65\n",
      "60000/60000 [==============================] - 3s 57us/step - loss: 1.5701 - acc: 0.7543\n",
      "Epoch 3/65\n",
      "60000/60000 [==============================] - 3s 58us/step - loss: 1.1502 - acc: 0.8027\n",
      "Epoch 4/65\n",
      "60000/60000 [==============================] - 3s 57us/step - loss: 0.9046 - acc: 0.8263\n",
      "Epoch 5/65\n",
      "34176/60000 [================>.............] - ETA: 1s - loss: 0.7787 - acc: 0.8401"
     ]
    },
    {
     "ename": "KeyboardInterrupt",
     "evalue": "",
     "output_type": "error",
     "traceback": [
      "\u001b[1;31m---------------------------------------------------------------------------\u001b[0m",
      "\u001b[1;31mKeyboardInterrupt\u001b[0m                         Traceback (most recent call last)",
      "\u001b[1;32m<ipython-input-24-c48852d79d21>\u001b[0m in \u001b[0;36m<module>\u001b[1;34m()\u001b[0m\n\u001b[0;32m     19\u001b[0m                     \u001b[0mloss\u001b[0m\u001b[1;33m=\u001b[0m\u001b[1;34m'categorical_crossentropy'\u001b[0m\u001b[1;33m,\u001b[0m\u001b[1;33m\u001b[0m\u001b[0m\n\u001b[0;32m     20\u001b[0m                     metrics=['accuracy'])\n\u001b[1;32m---> 21\u001b[1;33m     \u001b[0mnetwork\u001b[0m\u001b[1;33m.\u001b[0m\u001b[0mfit\u001b[0m\u001b[1;33m(\u001b[0m\u001b[0mtrain_images\u001b[0m\u001b[1;33m,\u001b[0m \u001b[0mtrain_labels\u001b[0m\u001b[1;33m,\u001b[0m \u001b[0mepochs\u001b[0m\u001b[1;33m=\u001b[0m\u001b[0mi\u001b[0m\u001b[1;33m,\u001b[0m \u001b[0mbatch_size\u001b[0m\u001b[1;33m=\u001b[0m\u001b[1;36m128\u001b[0m\u001b[1;33m)\u001b[0m\u001b[1;33m\u001b[0m\u001b[0m\n\u001b[0m\u001b[0;32m     22\u001b[0m     \u001b[0mtest_loss\u001b[0m\u001b[1;33m,\u001b[0m \u001b[0mtest_acc\u001b[0m \u001b[1;33m=\u001b[0m \u001b[0mnetwork\u001b[0m\u001b[1;33m.\u001b[0m\u001b[0mevaluate\u001b[0m\u001b[1;33m(\u001b[0m\u001b[0mtest_images\u001b[0m\u001b[1;33m,\u001b[0m \u001b[0mtest_labels\u001b[0m\u001b[1;33m)\u001b[0m\u001b[1;33m\u001b[0m\u001b[0m\n\u001b[0;32m     23\u001b[0m     \u001b[0macc_nc\u001b[0m\u001b[1;33m.\u001b[0m\u001b[0mappend\u001b[0m\u001b[1;33m(\u001b[0m\u001b[0mtest_acc\u001b[0m\u001b[1;33m)\u001b[0m\u001b[1;33m\u001b[0m\u001b[0m\n",
      "\u001b[1;32mC:\\ProgramData\\Anaconda3\\lib\\site-packages\\keras\\engine\\training.py\u001b[0m in \u001b[0;36mfit\u001b[1;34m(self, x, y, batch_size, epochs, verbose, callbacks, validation_split, validation_data, shuffle, class_weight, sample_weight, initial_epoch, steps_per_epoch, validation_steps, **kwargs)\u001b[0m\n\u001b[0;32m   1040\u001b[0m                                         \u001b[0minitial_epoch\u001b[0m\u001b[1;33m=\u001b[0m\u001b[0minitial_epoch\u001b[0m\u001b[1;33m,\u001b[0m\u001b[1;33m\u001b[0m\u001b[0m\n\u001b[0;32m   1041\u001b[0m                                         \u001b[0msteps_per_epoch\u001b[0m\u001b[1;33m=\u001b[0m\u001b[0msteps_per_epoch\u001b[0m\u001b[1;33m,\u001b[0m\u001b[1;33m\u001b[0m\u001b[0m\n\u001b[1;32m-> 1042\u001b[1;33m                                         validation_steps=validation_steps)\n\u001b[0m\u001b[0;32m   1043\u001b[0m \u001b[1;33m\u001b[0m\u001b[0m\n\u001b[0;32m   1044\u001b[0m     def evaluate(self, x=None, y=None,\n",
      "\u001b[1;32mC:\\ProgramData\\Anaconda3\\lib\\site-packages\\keras\\engine\\training_arrays.py\u001b[0m in \u001b[0;36mfit_loop\u001b[1;34m(model, f, ins, out_labels, batch_size, epochs, verbose, callbacks, val_f, val_ins, shuffle, callback_metrics, initial_epoch, steps_per_epoch, validation_steps)\u001b[0m\n\u001b[0;32m    197\u001b[0m                     \u001b[0mins_batch\u001b[0m\u001b[1;33m[\u001b[0m\u001b[0mi\u001b[0m\u001b[1;33m]\u001b[0m \u001b[1;33m=\u001b[0m \u001b[0mins_batch\u001b[0m\u001b[1;33m[\u001b[0m\u001b[0mi\u001b[0m\u001b[1;33m]\u001b[0m\u001b[1;33m.\u001b[0m\u001b[0mtoarray\u001b[0m\u001b[1;33m(\u001b[0m\u001b[1;33m)\u001b[0m\u001b[1;33m\u001b[0m\u001b[0m\n\u001b[0;32m    198\u001b[0m \u001b[1;33m\u001b[0m\u001b[0m\n\u001b[1;32m--> 199\u001b[1;33m                 \u001b[0mouts\u001b[0m \u001b[1;33m=\u001b[0m \u001b[0mf\u001b[0m\u001b[1;33m(\u001b[0m\u001b[0mins_batch\u001b[0m\u001b[1;33m)\u001b[0m\u001b[1;33m\u001b[0m\u001b[0m\n\u001b[0m\u001b[0;32m    200\u001b[0m                 \u001b[1;32mif\u001b[0m \u001b[1;32mnot\u001b[0m \u001b[0misinstance\u001b[0m\u001b[1;33m(\u001b[0m\u001b[0mouts\u001b[0m\u001b[1;33m,\u001b[0m \u001b[0mlist\u001b[0m\u001b[1;33m)\u001b[0m\u001b[1;33m:\u001b[0m\u001b[1;33m\u001b[0m\u001b[0m\n\u001b[0;32m    201\u001b[0m                     \u001b[0mouts\u001b[0m \u001b[1;33m=\u001b[0m \u001b[1;33m[\u001b[0m\u001b[0mouts\u001b[0m\u001b[1;33m]\u001b[0m\u001b[1;33m\u001b[0m\u001b[0m\n",
      "\u001b[1;32mC:\\ProgramData\\Anaconda3\\lib\\site-packages\\keras\\backend\\tensorflow_backend.py\u001b[0m in \u001b[0;36m__call__\u001b[1;34m(self, inputs)\u001b[0m\n\u001b[0;32m   2659\u001b[0m                 \u001b[1;32mreturn\u001b[0m \u001b[0mself\u001b[0m\u001b[1;33m.\u001b[0m\u001b[0m_legacy_call\u001b[0m\u001b[1;33m(\u001b[0m\u001b[0minputs\u001b[0m\u001b[1;33m)\u001b[0m\u001b[1;33m\u001b[0m\u001b[0m\n\u001b[0;32m   2660\u001b[0m \u001b[1;33m\u001b[0m\u001b[0m\n\u001b[1;32m-> 2661\u001b[1;33m             \u001b[1;32mreturn\u001b[0m \u001b[0mself\u001b[0m\u001b[1;33m.\u001b[0m\u001b[0m_call\u001b[0m\u001b[1;33m(\u001b[0m\u001b[0minputs\u001b[0m\u001b[1;33m)\u001b[0m\u001b[1;33m\u001b[0m\u001b[0m\n\u001b[0m\u001b[0;32m   2662\u001b[0m         \u001b[1;32melse\u001b[0m\u001b[1;33m:\u001b[0m\u001b[1;33m\u001b[0m\u001b[0m\n\u001b[0;32m   2663\u001b[0m             \u001b[1;32mif\u001b[0m \u001b[0mpy_any\u001b[0m\u001b[1;33m(\u001b[0m\u001b[0mis_tensor\u001b[0m\u001b[1;33m(\u001b[0m\u001b[0mx\u001b[0m\u001b[1;33m)\u001b[0m \u001b[1;32mfor\u001b[0m \u001b[0mx\u001b[0m \u001b[1;32min\u001b[0m \u001b[0minputs\u001b[0m\u001b[1;33m)\u001b[0m\u001b[1;33m:\u001b[0m\u001b[1;33m\u001b[0m\u001b[0m\n",
      "\u001b[1;32mC:\\ProgramData\\Anaconda3\\lib\\site-packages\\keras\\backend\\tensorflow_backend.py\u001b[0m in \u001b[0;36m_call\u001b[1;34m(self, inputs)\u001b[0m\n\u001b[0;32m   2629\u001b[0m                                 \u001b[0msymbol_vals\u001b[0m\u001b[1;33m,\u001b[0m\u001b[1;33m\u001b[0m\u001b[0m\n\u001b[0;32m   2630\u001b[0m                                 session)\n\u001b[1;32m-> 2631\u001b[1;33m         \u001b[0mfetched\u001b[0m \u001b[1;33m=\u001b[0m \u001b[0mself\u001b[0m\u001b[1;33m.\u001b[0m\u001b[0m_callable_fn\u001b[0m\u001b[1;33m(\u001b[0m\u001b[1;33m*\u001b[0m\u001b[0marray_vals\u001b[0m\u001b[1;33m)\u001b[0m\u001b[1;33m\u001b[0m\u001b[0m\n\u001b[0m\u001b[0;32m   2632\u001b[0m         \u001b[1;32mreturn\u001b[0m \u001b[0mfetched\u001b[0m\u001b[1;33m[\u001b[0m\u001b[1;33m:\u001b[0m\u001b[0mlen\u001b[0m\u001b[1;33m(\u001b[0m\u001b[0mself\u001b[0m\u001b[1;33m.\u001b[0m\u001b[0moutputs\u001b[0m\u001b[1;33m)\u001b[0m\u001b[1;33m]\u001b[0m\u001b[1;33m\u001b[0m\u001b[0m\n\u001b[0;32m   2633\u001b[0m \u001b[1;33m\u001b[0m\u001b[0m\n",
      "\u001b[1;32mC:\\ProgramData\\Anaconda3\\lib\\site-packages\\tensorflow\\python\\client\\session.py\u001b[0m in \u001b[0;36m__call__\u001b[1;34m(self, *args)\u001b[0m\n\u001b[0;32m   1449\u001b[0m         \u001b[1;32mif\u001b[0m \u001b[0mself\u001b[0m\u001b[1;33m.\u001b[0m\u001b[0m_session\u001b[0m\u001b[1;33m.\u001b[0m\u001b[0m_created_with_new_api\u001b[0m\u001b[1;33m:\u001b[0m\u001b[1;33m\u001b[0m\u001b[0m\n\u001b[0;32m   1450\u001b[0m           return tf_session.TF_SessionRunCallable(\n\u001b[1;32m-> 1451\u001b[1;33m               self._session._session, self._handle, args, status, None)\n\u001b[0m\u001b[0;32m   1452\u001b[0m         \u001b[1;32melse\u001b[0m\u001b[1;33m:\u001b[0m\u001b[1;33m\u001b[0m\u001b[0m\n\u001b[0;32m   1453\u001b[0m           return tf_session.TF_DeprecatedSessionRunCallable(\n",
      "\u001b[1;31mKeyboardInterrupt\u001b[0m: "
     ]
    }
   ],
   "source": [
    "acc_nc = []\n",
    "\n",
    "(train_images, train_labels), (test_images, test_labels) = mnist.load_data()\n",
    "\n",
    "train_images = train_images.reshape((60000, 28 * 28))\n",
    "train_images = train_images.astype('float32') / 255\n",
    "\n",
    "test_images = test_images.reshape((10000, 28 * 28))\n",
    "test_images = test_images.astype('float32') / 255\n",
    "\n",
    "train_labels = to_categorical(train_labels)\n",
    "test_labels = to_categorical(test_labels)\n",
    "\n",
    "for i in range(5,50,10):\n",
    "    network = models.Sequential()\n",
    "    network.add(layers.Dense(512, activation='sigmoid', input_shape=(28 * 28,)))\n",
    "    network.add(layers.Dense(10, activation='sigmoid'))\n",
    "    network.compile(optimizer='sgd',\n",
    "                    loss='categorical_crossentropy',\n",
    "                    metrics=['accuracy'])\n",
    "    network.fit(train_images, train_labels, epochs=i, batch_size=128)\n",
    "    test_loss, test_acc = network.evaluate(test_images, test_labels)\n",
    "    acc_nc.append(test_acc)\n",
    "\n",
    "plt.plot(range(5,50,10), acc_nc)\n",
    "plt.xlabel('Number of layers')\n",
    "plt.ylabel('Accuracy')\n",
    "plt.show()"
   ]
  },
  {
   "cell_type": "code",
   "execution_count": null,
   "metadata": {
    "collapsed": true
   },
   "outputs": [],
   "source": [
    "acc_nc = []\n",
    "\n",
    "(train_images, train_labels), (test_images, test_labels) = mnist.load_data()\n",
    "\n",
    "train_images = train_images.reshape((60000, 28 * 28))\n",
    "train_images = train_images.astype('float32') / 255\n",
    "\n",
    "test_images = test_images.reshape((10000, 28 * 28))\n",
    "test_images = test_images.astype('float32') / 255\n",
    "\n",
    "train_labels = to_categorical(train_labels)\n",
    "test_labels = to_categorical(test_labels)\n",
    "\n",
    "for i in range(100,500,30):\n",
    "    network = models.Sequential()\n",
    "    network.add(layers.Dense(512, activation='sigmoid', input_shape=(28 * 28,)))\n",
    "    network.add(layers.Dense(10, activation='sigmoid'))\n",
    "    network.compile(optimizer='sgd',\n",
    "                    loss='categorical_crossentropy',\n",
    "                    metrics=['accuracy'])\n",
    "    network.fit(train_images, train_labels, epochs=5, batch_size=i)\n",
    "    test_loss, test_acc = network.evaluate(test_images, test_labels)\n",
    "    acc_nc.append(test_acc)\n",
    "\n",
    "plt.plot(range(100,500,30), acc_nc)\n",
    "plt.xlabel('Number of layers')\n",
    "plt.ylabel('Accuracy')\n",
    "plt.show()"
   ]
  },
  {
   "cell_type": "code",
   "execution_count": null,
   "metadata": {
    "collapsed": true
   },
   "outputs": [],
   "source": [
    "acc_nc = []\n",
    "\n",
    "(train_images, train_labels), (test_images, test_labels) = mnist.load_data()\n",
    "\n",
    "train_images = train_images.reshape((60000, 28 * 28))\n",
    "train_images = train_images.astype('float32') / 255\n",
    "\n",
    "test_images = test_images.reshape((10000, 28 * 28))\n",
    "test_images = test_images.astype('float32') / 255\n",
    "\n",
    "train_labels = to_categorical(train_labels)\n",
    "test_labels = to_categorical(test_labels)\n",
    "for i in range(1,10):\n",
    "    network = models.Sequential()\n",
    "    for j in i:\n",
    "        network.add(layers.Dense(20, activation='sigmoid', input_shape=(28 * 28,)))\n",
    "    network.add(layers.Dense(10, activation='sigmoid'))\n",
    "    network.compile(optimizer='sgd',\n",
    "                    loss='categorical_crossentropy',\n",
    "                    metrics=['accuracy'])\n",
    "    network.fit(train_images, train_labels, epochs=5, batch_size=128)\n",
    "    test_loss, test_acc = network.evaluate(test_images, test_labels)\n",
    "    acc_nc.append(test_acc)\n",
    "\n",
    "plt.plot(range(100,500,30), acc_nc)\n",
    "plt.xlabel('Number of layers')\n",
    "plt.ylabel('Accuracy')\n",
    "plt.show()"
   ]
  },
  {
   "cell_type": "code",
   "execution_count": null,
   "metadata": {
    "collapsed": true
   },
   "outputs": [],
   "source": [
    "import matplotlib.pyplot as plt\n",
    "plt.plot(bs_list, tr_a_list)\n",
    "plt.show()"
   ]
  },
  {
   "cell_type": "markdown",
   "metadata": {},
   "source": [
    "### Checking image prediction\n",
    "\n",
    "So far we've dealing with pretty technical stuff: how to build neural network models, train them, test them, etc. Let's now check whether a given image is correctly classified within their corresponding class. How do we do that? Well...\n",
    "\n",
    "1. Choose and load a random image in the appropriate format from the appropriate dataset.\n",
    "1. Use the `predict_classes` method from Keras. (Find its documentation.)\n",
    "1. Extract the prediction from whatever structure the above method returns.\n",
    "1. Display the selected image and print the corresponding class prediction.\n",
    "\n",
    "Try to implement this during the lab. Discuss what kind of models you encountered."
   ]
  },
  {
   "cell_type": "code",
   "execution_count": null,
   "metadata": {
    "collapsed": true
   },
   "outputs": [],
   "source": [
    "# insert several cells of code to explicitely check image prediction"
   ]
  },
  {
   "cell_type": "markdown",
   "metadata": {},
   "source": [
    "### Exercises\n",
    "\n",
    "Now that you are a little bit more acquainted with the framework Keras, it's time to play around with some of the hyper-parameters that we can modify when constructing and training a neural network. The idea is to keep using the hand-written digit recognition example.\n",
    "\n",
    "In this exercise, you will plot and analyze how the neural network model performs, i.e. inspect accuracy and loss, when you modify the following parameters keeping all the other model parameters fixed:\n",
    "\n",
    "* Number of epochs, fixed batch size,\n",
    "* Batch size, fixed number of epochs,\n",
    "* Number of neurons per layer, fixed number of layers,\n",
    "* Number of layers, fixed number of neurons per layer.\n",
    "\n",
    "Time permitting, it is also enlightening to analyze loss and accuracy when the activation parameter is modified. For instance, try changing `relu`s for `sigmoid`s and check out the performance of the neural network. What happen if the output layer's activation function is not `softmax` but a `sigmoid`?"
   ]
  },
  {
   "cell_type": "markdown",
   "metadata": {},
   "source": [
    "---"
   ]
  },
  {
   "cell_type": "markdown",
   "metadata": {},
   "source": [
    "## Further reading\n",
    "\n",
    "Most of this introduction is based on the book [Deep Learning with Python](https://www.manning.com/books/deep-learning-with-python) by François Chollet, the creator of Keras. It is a very practical introduction to Deep Learning without requiring all the mathematical background.\n",
    "\n",
    "The [Deep Learning](http://www.deeplearningbook.org/) book is a theoretical book in three parts: 1) The mathematical basis for Deep Learning, 2) Modern Practice Deep Networks, 3) Deep Learning Research. It is a good second book after getting some practical initial experience.\n",
    "\n",
    "For more advance deep learning practitioners, check out the book from the [link](https://machinelearningmastery.com/deep-learning-with-python/).\n",
    "\n",
    "We also recommend Andrew Ng's online course: https://www.deeplearning.ai/"
   ]
  },
  {
   "cell_type": "code",
   "execution_count": null,
   "metadata": {
    "collapsed": true
   },
   "outputs": [],
   "source": []
  }
 ],
 "metadata": {
  "kernelspec": {
   "display_name": "Python 3",
   "language": "python",
   "name": "python3"
  },
  "language_info": {
   "codemirror_mode": {
    "name": "ipython",
    "version": 3
   },
   "file_extension": ".py",
   "mimetype": "text/x-python",
   "name": "python",
   "nbconvert_exporter": "python",
   "pygments_lexer": "ipython3",
   "version": "3.6.3"
  }
 },
 "nbformat": 4,
 "nbformat_minor": 2
}
